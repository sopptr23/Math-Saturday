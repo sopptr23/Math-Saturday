{
  "cells": [
    {
      "cell_type": "code",
      "execution_count": null,
      "metadata": {
        "id": "DUosapHbbVDh"
      },
      "outputs": [],
      "source": [
        "#Importing: (You can add or change this)\n",
        "from google.colab import files\n",
        "import pandas as pd\n",
        "import numpy as np\n",
        "import seaborn as sns\n",
        "import matplotlib.pyplot as plt"
      ]
    },
    {
      "cell_type": "markdown",
      "metadata": {
        "id": "OAvdJsAIc8Bt"
      },
      "source": [
        "Objectives:\n",
        "- Let them be able to choose which country\n",
        "- Average AQI for all the cities in the country\n",
        "- Mean AQI (What city?)\n",
        "- Highest AQI (What city?)\n",
        "- Lowest AQI (What city?)\n",
        "- add articles to add context of why the results are like that\n",
        "- Some graphs to explain it\n",
        "- Add engagement questions"
      ]
    },
    {
      "cell_type": "markdown",
      "metadata": {
        "id": "7sIIfzD39Bop"
      },
      "source": [
        "# 1. Preparation"
      ]
    },
    {
      "cell_type": "code",
      "execution_count": null,
      "metadata": {
        "colab": {
          "base_uri": "https://localhost:8080/",
          "height": 73
        },
        "id": "WwPCfEo18_Rz",
        "outputId": "76205b5e-dd54-44bb-ff04-b3b6eb793b5e"
      },
      "outputs": [
        {
          "output_type": "display_data",
          "data": {
            "text/plain": [
              "<IPython.core.display.HTML object>"
            ],
            "text/html": [
              "\n",
              "     <input type=\"file\" id=\"files-7755e356-e15d-4262-a40a-a935ddf641fa\" name=\"files[]\" multiple disabled\n",
              "        style=\"border:none\" />\n",
              "     <output id=\"result-7755e356-e15d-4262-a40a-a935ddf641fa\">\n",
              "      Upload widget is only available when the cell has been executed in the\n",
              "      current browser session. Please rerun this cell to enable.\n",
              "      </output>\n",
              "      <script>// Copyright 2017 Google LLC\n",
              "//\n",
              "// Licensed under the Apache License, Version 2.0 (the \"License\");\n",
              "// you may not use this file except in compliance with the License.\n",
              "// You may obtain a copy of the License at\n",
              "//\n",
              "//      http://www.apache.org/licenses/LICENSE-2.0\n",
              "//\n",
              "// Unless required by applicable law or agreed to in writing, software\n",
              "// distributed under the License is distributed on an \"AS IS\" BASIS,\n",
              "// WITHOUT WARRANTIES OR CONDITIONS OF ANY KIND, either express or implied.\n",
              "// See the License for the specific language governing permissions and\n",
              "// limitations under the License.\n",
              "\n",
              "/**\n",
              " * @fileoverview Helpers for google.colab Python module.\n",
              " */\n",
              "(function(scope) {\n",
              "function span(text, styleAttributes = {}) {\n",
              "  const element = document.createElement('span');\n",
              "  element.textContent = text;\n",
              "  for (const key of Object.keys(styleAttributes)) {\n",
              "    element.style[key] = styleAttributes[key];\n",
              "  }\n",
              "  return element;\n",
              "}\n",
              "\n",
              "// Max number of bytes which will be uploaded at a time.\n",
              "const MAX_PAYLOAD_SIZE = 100 * 1024;\n",
              "\n",
              "function _uploadFiles(inputId, outputId) {\n",
              "  const steps = uploadFilesStep(inputId, outputId);\n",
              "  const outputElement = document.getElementById(outputId);\n",
              "  // Cache steps on the outputElement to make it available for the next call\n",
              "  // to uploadFilesContinue from Python.\n",
              "  outputElement.steps = steps;\n",
              "\n",
              "  return _uploadFilesContinue(outputId);\n",
              "}\n",
              "\n",
              "// This is roughly an async generator (not supported in the browser yet),\n",
              "// where there are multiple asynchronous steps and the Python side is going\n",
              "// to poll for completion of each step.\n",
              "// This uses a Promise to block the python side on completion of each step,\n",
              "// then passes the result of the previous step as the input to the next step.\n",
              "function _uploadFilesContinue(outputId) {\n",
              "  const outputElement = document.getElementById(outputId);\n",
              "  const steps = outputElement.steps;\n",
              "\n",
              "  const next = steps.next(outputElement.lastPromiseValue);\n",
              "  return Promise.resolve(next.value.promise).then((value) => {\n",
              "    // Cache the last promise value to make it available to the next\n",
              "    // step of the generator.\n",
              "    outputElement.lastPromiseValue = value;\n",
              "    return next.value.response;\n",
              "  });\n",
              "}\n",
              "\n",
              "/**\n",
              " * Generator function which is called between each async step of the upload\n",
              " * process.\n",
              " * @param {string} inputId Element ID of the input file picker element.\n",
              " * @param {string} outputId Element ID of the output display.\n",
              " * @return {!Iterable<!Object>} Iterable of next steps.\n",
              " */\n",
              "function* uploadFilesStep(inputId, outputId) {\n",
              "  const inputElement = document.getElementById(inputId);\n",
              "  inputElement.disabled = false;\n",
              "\n",
              "  const outputElement = document.getElementById(outputId);\n",
              "  outputElement.innerHTML = '';\n",
              "\n",
              "  const pickedPromise = new Promise((resolve) => {\n",
              "    inputElement.addEventListener('change', (e) => {\n",
              "      resolve(e.target.files);\n",
              "    });\n",
              "  });\n",
              "\n",
              "  const cancel = document.createElement('button');\n",
              "  inputElement.parentElement.appendChild(cancel);\n",
              "  cancel.textContent = 'Cancel upload';\n",
              "  const cancelPromise = new Promise((resolve) => {\n",
              "    cancel.onclick = () => {\n",
              "      resolve(null);\n",
              "    };\n",
              "  });\n",
              "\n",
              "  // Wait for the user to pick the files.\n",
              "  const files = yield {\n",
              "    promise: Promise.race([pickedPromise, cancelPromise]),\n",
              "    response: {\n",
              "      action: 'starting',\n",
              "    }\n",
              "  };\n",
              "\n",
              "  cancel.remove();\n",
              "\n",
              "  // Disable the input element since further picks are not allowed.\n",
              "  inputElement.disabled = true;\n",
              "\n",
              "  if (!files) {\n",
              "    return {\n",
              "      response: {\n",
              "        action: 'complete',\n",
              "      }\n",
              "    };\n",
              "  }\n",
              "\n",
              "  for (const file of files) {\n",
              "    const li = document.createElement('li');\n",
              "    li.append(span(file.name, {fontWeight: 'bold'}));\n",
              "    li.append(span(\n",
              "        `(${file.type || 'n/a'}) - ${file.size} bytes, ` +\n",
              "        `last modified: ${\n",
              "            file.lastModifiedDate ? file.lastModifiedDate.toLocaleDateString() :\n",
              "                                    'n/a'} - `));\n",
              "    const percent = span('0% done');\n",
              "    li.appendChild(percent);\n",
              "\n",
              "    outputElement.appendChild(li);\n",
              "\n",
              "    const fileDataPromise = new Promise((resolve) => {\n",
              "      const reader = new FileReader();\n",
              "      reader.onload = (e) => {\n",
              "        resolve(e.target.result);\n",
              "      };\n",
              "      reader.readAsArrayBuffer(file);\n",
              "    });\n",
              "    // Wait for the data to be ready.\n",
              "    let fileData = yield {\n",
              "      promise: fileDataPromise,\n",
              "      response: {\n",
              "        action: 'continue',\n",
              "      }\n",
              "    };\n",
              "\n",
              "    // Use a chunked sending to avoid message size limits. See b/62115660.\n",
              "    let position = 0;\n",
              "    do {\n",
              "      const length = Math.min(fileData.byteLength - position, MAX_PAYLOAD_SIZE);\n",
              "      const chunk = new Uint8Array(fileData, position, length);\n",
              "      position += length;\n",
              "\n",
              "      const base64 = btoa(String.fromCharCode.apply(null, chunk));\n",
              "      yield {\n",
              "        response: {\n",
              "          action: 'append',\n",
              "          file: file.name,\n",
              "          data: base64,\n",
              "        },\n",
              "      };\n",
              "\n",
              "      let percentDone = fileData.byteLength === 0 ?\n",
              "          100 :\n",
              "          Math.round((position / fileData.byteLength) * 100);\n",
              "      percent.textContent = `${percentDone}% done`;\n",
              "\n",
              "    } while (position < fileData.byteLength);\n",
              "  }\n",
              "\n",
              "  // All done.\n",
              "  yield {\n",
              "    response: {\n",
              "      action: 'complete',\n",
              "    }\n",
              "  };\n",
              "}\n",
              "\n",
              "scope.google = scope.google || {};\n",
              "scope.google.colab = scope.google.colab || {};\n",
              "scope.google.colab._files = {\n",
              "  _uploadFiles,\n",
              "  _uploadFilesContinue,\n",
              "};\n",
              "})(self);\n",
              "</script> "
            ]
          },
          "metadata": {}
        },
        {
          "output_type": "stream",
          "name": "stdout",
          "text": [
            "Saving global air pollution dataset.csv to global air pollution dataset.csv\n"
          ]
        }
      ],
      "source": [
        "dataset = files.upload()"
      ]
    },
    {
      "cell_type": "code",
      "execution_count": null,
      "metadata": {
        "id": "Ntd3YWvo9iZf"
      },
      "outputs": [],
      "source": [
        "pollute = pd.read_csv(\"global air pollution dataset.csv\")"
      ]
    },
    {
      "cell_type": "code",
      "execution_count": null,
      "metadata": {
        "id": "FVmpOL_x9qy5",
        "colab": {
          "base_uri": "https://localhost:8080/",
          "height": 467
        },
        "outputId": "a99c4393-1079-4034-c7bb-5554ec2b1a96"
      },
      "outputs": [
        {
          "output_type": "execute_result",
          "data": {
            "text/plain": [
              "                    Country              City  AQI Value  \\\n",
              "0        Russian Federation        Praskoveya         51   \n",
              "1                    Brazil  Presidente Dutra         41   \n",
              "2                     Italy   Priolo Gargallo         66   \n",
              "3                    Poland         Przasnysz         34   \n",
              "4                    France          Punaauia         22   \n",
              "5  United States of America       Punta Gorda         54   \n",
              "6                   Germany        Puttlingen         62   \n",
              "7                   Belgium             Puurs         64   \n",
              "8        Russian Federation        Pyatigorsk         54   \n",
              "9                     Egypt            Qalyub        142   \n",
              "\n",
              "                     AQI Category  CO AQI Value CO AQI Category  \\\n",
              "0                        Moderate             1            Good   \n",
              "1                            Good             1            Good   \n",
              "2                        Moderate             1            Good   \n",
              "3                            Good             1            Good   \n",
              "4                            Good             0            Good   \n",
              "5                        Moderate             1            Good   \n",
              "6                        Moderate             1            Good   \n",
              "7                        Moderate             1            Good   \n",
              "8                        Moderate             1            Good   \n",
              "9  Unhealthy for Sensitive Groups             3            Good   \n",
              "\n",
              "   Ozone AQI Value Ozone AQI Category  NO2 AQI Value NO2 AQI Category  \\\n",
              "0               36               Good              0             Good   \n",
              "1                5               Good              1             Good   \n",
              "2               39               Good              2             Good   \n",
              "3               34               Good              0             Good   \n",
              "4               22               Good              0             Good   \n",
              "5               14               Good             11             Good   \n",
              "6               35               Good              3             Good   \n",
              "7               29               Good              7             Good   \n",
              "8               41               Good              1             Good   \n",
              "9               89           Moderate              9             Good   \n",
              "\n",
              "   PM2.5 AQI Value              PM2.5 AQI Category  \n",
              "0               51                        Moderate  \n",
              "1               41                            Good  \n",
              "2               66                        Moderate  \n",
              "3               20                            Good  \n",
              "4                6                            Good  \n",
              "5               54                        Moderate  \n",
              "6               62                        Moderate  \n",
              "7               64                        Moderate  \n",
              "8               54                        Moderate  \n",
              "9              142  Unhealthy for Sensitive Groups  "
            ],
            "text/html": [
              "\n",
              "  <div id=\"df-aed0e254-47d1-4677-8b67-a8686f1c6020\" class=\"colab-df-container\">\n",
              "    <div>\n",
              "<style scoped>\n",
              "    .dataframe tbody tr th:only-of-type {\n",
              "        vertical-align: middle;\n",
              "    }\n",
              "\n",
              "    .dataframe tbody tr th {\n",
              "        vertical-align: top;\n",
              "    }\n",
              "\n",
              "    .dataframe thead th {\n",
              "        text-align: right;\n",
              "    }\n",
              "</style>\n",
              "<table border=\"1\" class=\"dataframe\">\n",
              "  <thead>\n",
              "    <tr style=\"text-align: right;\">\n",
              "      <th></th>\n",
              "      <th>Country</th>\n",
              "      <th>City</th>\n",
              "      <th>AQI Value</th>\n",
              "      <th>AQI Category</th>\n",
              "      <th>CO AQI Value</th>\n",
              "      <th>CO AQI Category</th>\n",
              "      <th>Ozone AQI Value</th>\n",
              "      <th>Ozone AQI Category</th>\n",
              "      <th>NO2 AQI Value</th>\n",
              "      <th>NO2 AQI Category</th>\n",
              "      <th>PM2.5 AQI Value</th>\n",
              "      <th>PM2.5 AQI Category</th>\n",
              "    </tr>\n",
              "  </thead>\n",
              "  <tbody>\n",
              "    <tr>\n",
              "      <th>0</th>\n",
              "      <td>Russian Federation</td>\n",
              "      <td>Praskoveya</td>\n",
              "      <td>51</td>\n",
              "      <td>Moderate</td>\n",
              "      <td>1</td>\n",
              "      <td>Good</td>\n",
              "      <td>36</td>\n",
              "      <td>Good</td>\n",
              "      <td>0</td>\n",
              "      <td>Good</td>\n",
              "      <td>51</td>\n",
              "      <td>Moderate</td>\n",
              "    </tr>\n",
              "    <tr>\n",
              "      <th>1</th>\n",
              "      <td>Brazil</td>\n",
              "      <td>Presidente Dutra</td>\n",
              "      <td>41</td>\n",
              "      <td>Good</td>\n",
              "      <td>1</td>\n",
              "      <td>Good</td>\n",
              "      <td>5</td>\n",
              "      <td>Good</td>\n",
              "      <td>1</td>\n",
              "      <td>Good</td>\n",
              "      <td>41</td>\n",
              "      <td>Good</td>\n",
              "    </tr>\n",
              "    <tr>\n",
              "      <th>2</th>\n",
              "      <td>Italy</td>\n",
              "      <td>Priolo Gargallo</td>\n",
              "      <td>66</td>\n",
              "      <td>Moderate</td>\n",
              "      <td>1</td>\n",
              "      <td>Good</td>\n",
              "      <td>39</td>\n",
              "      <td>Good</td>\n",
              "      <td>2</td>\n",
              "      <td>Good</td>\n",
              "      <td>66</td>\n",
              "      <td>Moderate</td>\n",
              "    </tr>\n",
              "    <tr>\n",
              "      <th>3</th>\n",
              "      <td>Poland</td>\n",
              "      <td>Przasnysz</td>\n",
              "      <td>34</td>\n",
              "      <td>Good</td>\n",
              "      <td>1</td>\n",
              "      <td>Good</td>\n",
              "      <td>34</td>\n",
              "      <td>Good</td>\n",
              "      <td>0</td>\n",
              "      <td>Good</td>\n",
              "      <td>20</td>\n",
              "      <td>Good</td>\n",
              "    </tr>\n",
              "    <tr>\n",
              "      <th>4</th>\n",
              "      <td>France</td>\n",
              "      <td>Punaauia</td>\n",
              "      <td>22</td>\n",
              "      <td>Good</td>\n",
              "      <td>0</td>\n",
              "      <td>Good</td>\n",
              "      <td>22</td>\n",
              "      <td>Good</td>\n",
              "      <td>0</td>\n",
              "      <td>Good</td>\n",
              "      <td>6</td>\n",
              "      <td>Good</td>\n",
              "    </tr>\n",
              "    <tr>\n",
              "      <th>5</th>\n",
              "      <td>United States of America</td>\n",
              "      <td>Punta Gorda</td>\n",
              "      <td>54</td>\n",
              "      <td>Moderate</td>\n",
              "      <td>1</td>\n",
              "      <td>Good</td>\n",
              "      <td>14</td>\n",
              "      <td>Good</td>\n",
              "      <td>11</td>\n",
              "      <td>Good</td>\n",
              "      <td>54</td>\n",
              "      <td>Moderate</td>\n",
              "    </tr>\n",
              "    <tr>\n",
              "      <th>6</th>\n",
              "      <td>Germany</td>\n",
              "      <td>Puttlingen</td>\n",
              "      <td>62</td>\n",
              "      <td>Moderate</td>\n",
              "      <td>1</td>\n",
              "      <td>Good</td>\n",
              "      <td>35</td>\n",
              "      <td>Good</td>\n",
              "      <td>3</td>\n",
              "      <td>Good</td>\n",
              "      <td>62</td>\n",
              "      <td>Moderate</td>\n",
              "    </tr>\n",
              "    <tr>\n",
              "      <th>7</th>\n",
              "      <td>Belgium</td>\n",
              "      <td>Puurs</td>\n",
              "      <td>64</td>\n",
              "      <td>Moderate</td>\n",
              "      <td>1</td>\n",
              "      <td>Good</td>\n",
              "      <td>29</td>\n",
              "      <td>Good</td>\n",
              "      <td>7</td>\n",
              "      <td>Good</td>\n",
              "      <td>64</td>\n",
              "      <td>Moderate</td>\n",
              "    </tr>\n",
              "    <tr>\n",
              "      <th>8</th>\n",
              "      <td>Russian Federation</td>\n",
              "      <td>Pyatigorsk</td>\n",
              "      <td>54</td>\n",
              "      <td>Moderate</td>\n",
              "      <td>1</td>\n",
              "      <td>Good</td>\n",
              "      <td>41</td>\n",
              "      <td>Good</td>\n",
              "      <td>1</td>\n",
              "      <td>Good</td>\n",
              "      <td>54</td>\n",
              "      <td>Moderate</td>\n",
              "    </tr>\n",
              "    <tr>\n",
              "      <th>9</th>\n",
              "      <td>Egypt</td>\n",
              "      <td>Qalyub</td>\n",
              "      <td>142</td>\n",
              "      <td>Unhealthy for Sensitive Groups</td>\n",
              "      <td>3</td>\n",
              "      <td>Good</td>\n",
              "      <td>89</td>\n",
              "      <td>Moderate</td>\n",
              "      <td>9</td>\n",
              "      <td>Good</td>\n",
              "      <td>142</td>\n",
              "      <td>Unhealthy for Sensitive Groups</td>\n",
              "    </tr>\n",
              "  </tbody>\n",
              "</table>\n",
              "</div>\n",
              "    <div class=\"colab-df-buttons\">\n",
              "\n",
              "  <div class=\"colab-df-container\">\n",
              "    <button class=\"colab-df-convert\" onclick=\"convertToInteractive('df-aed0e254-47d1-4677-8b67-a8686f1c6020')\"\n",
              "            title=\"Convert this dataframe to an interactive table.\"\n",
              "            style=\"display:none;\">\n",
              "\n",
              "  <svg xmlns=\"http://www.w3.org/2000/svg\" height=\"24px\" viewBox=\"0 -960 960 960\">\n",
              "    <path d=\"M120-120v-720h720v720H120Zm60-500h600v-160H180v160Zm220 220h160v-160H400v160Zm0 220h160v-160H400v160ZM180-400h160v-160H180v160Zm440 0h160v-160H620v160ZM180-180h160v-160H180v160Zm440 0h160v-160H620v160Z\"/>\n",
              "  </svg>\n",
              "    </button>\n",
              "\n",
              "  <style>\n",
              "    .colab-df-container {\n",
              "      display:flex;\n",
              "      gap: 12px;\n",
              "    }\n",
              "\n",
              "    .colab-df-convert {\n",
              "      background-color: #E8F0FE;\n",
              "      border: none;\n",
              "      border-radius: 50%;\n",
              "      cursor: pointer;\n",
              "      display: none;\n",
              "      fill: #1967D2;\n",
              "      height: 32px;\n",
              "      padding: 0 0 0 0;\n",
              "      width: 32px;\n",
              "    }\n",
              "\n",
              "    .colab-df-convert:hover {\n",
              "      background-color: #E2EBFA;\n",
              "      box-shadow: 0px 1px 2px rgba(60, 64, 67, 0.3), 0px 1px 3px 1px rgba(60, 64, 67, 0.15);\n",
              "      fill: #174EA6;\n",
              "    }\n",
              "\n",
              "    .colab-df-buttons div {\n",
              "      margin-bottom: 4px;\n",
              "    }\n",
              "\n",
              "    [theme=dark] .colab-df-convert {\n",
              "      background-color: #3B4455;\n",
              "      fill: #D2E3FC;\n",
              "    }\n",
              "\n",
              "    [theme=dark] .colab-df-convert:hover {\n",
              "      background-color: #434B5C;\n",
              "      box-shadow: 0px 1px 3px 1px rgba(0, 0, 0, 0.15);\n",
              "      filter: drop-shadow(0px 1px 2px rgba(0, 0, 0, 0.3));\n",
              "      fill: #FFFFFF;\n",
              "    }\n",
              "  </style>\n",
              "\n",
              "    <script>\n",
              "      const buttonEl =\n",
              "        document.querySelector('#df-aed0e254-47d1-4677-8b67-a8686f1c6020 button.colab-df-convert');\n",
              "      buttonEl.style.display =\n",
              "        google.colab.kernel.accessAllowed ? 'block' : 'none';\n",
              "\n",
              "      async function convertToInteractive(key) {\n",
              "        const element = document.querySelector('#df-aed0e254-47d1-4677-8b67-a8686f1c6020');\n",
              "        const dataTable =\n",
              "          await google.colab.kernel.invokeFunction('convertToInteractive',\n",
              "                                                    [key], {});\n",
              "        if (!dataTable) return;\n",
              "\n",
              "        const docLinkHtml = 'Like what you see? Visit the ' +\n",
              "          '<a target=\"_blank\" href=https://colab.research.google.com/notebooks/data_table.ipynb>data table notebook</a>'\n",
              "          + ' to learn more about interactive tables.';\n",
              "        element.innerHTML = '';\n",
              "        dataTable['output_type'] = 'display_data';\n",
              "        await google.colab.output.renderOutput(dataTable, element);\n",
              "        const docLink = document.createElement('div');\n",
              "        docLink.innerHTML = docLinkHtml;\n",
              "        element.appendChild(docLink);\n",
              "      }\n",
              "    </script>\n",
              "  </div>\n",
              "\n",
              "\n",
              "<div id=\"df-69309219-4d36-4f50-aca5-b83dc8a132ee\">\n",
              "  <button class=\"colab-df-quickchart\" onclick=\"quickchart('df-69309219-4d36-4f50-aca5-b83dc8a132ee')\"\n",
              "            title=\"Suggest charts\"\n",
              "            style=\"display:none;\">\n",
              "\n",
              "<svg xmlns=\"http://www.w3.org/2000/svg\" height=\"24px\"viewBox=\"0 0 24 24\"\n",
              "     width=\"24px\">\n",
              "    <g>\n",
              "        <path d=\"M19 3H5c-1.1 0-2 .9-2 2v14c0 1.1.9 2 2 2h14c1.1 0 2-.9 2-2V5c0-1.1-.9-2-2-2zM9 17H7v-7h2v7zm4 0h-2V7h2v10zm4 0h-2v-4h2v4z\"/>\n",
              "    </g>\n",
              "</svg>\n",
              "  </button>\n",
              "\n",
              "<style>\n",
              "  .colab-df-quickchart {\n",
              "      --bg-color: #E8F0FE;\n",
              "      --fill-color: #1967D2;\n",
              "      --hover-bg-color: #E2EBFA;\n",
              "      --hover-fill-color: #174EA6;\n",
              "      --disabled-fill-color: #AAA;\n",
              "      --disabled-bg-color: #DDD;\n",
              "  }\n",
              "\n",
              "  [theme=dark] .colab-df-quickchart {\n",
              "      --bg-color: #3B4455;\n",
              "      --fill-color: #D2E3FC;\n",
              "      --hover-bg-color: #434B5C;\n",
              "      --hover-fill-color: #FFFFFF;\n",
              "      --disabled-bg-color: #3B4455;\n",
              "      --disabled-fill-color: #666;\n",
              "  }\n",
              "\n",
              "  .colab-df-quickchart {\n",
              "    background-color: var(--bg-color);\n",
              "    border: none;\n",
              "    border-radius: 50%;\n",
              "    cursor: pointer;\n",
              "    display: none;\n",
              "    fill: var(--fill-color);\n",
              "    height: 32px;\n",
              "    padding: 0;\n",
              "    width: 32px;\n",
              "  }\n",
              "\n",
              "  .colab-df-quickchart:hover {\n",
              "    background-color: var(--hover-bg-color);\n",
              "    box-shadow: 0 1px 2px rgba(60, 64, 67, 0.3), 0 1px 3px 1px rgba(60, 64, 67, 0.15);\n",
              "    fill: var(--button-hover-fill-color);\n",
              "  }\n",
              "\n",
              "  .colab-df-quickchart-complete:disabled,\n",
              "  .colab-df-quickchart-complete:disabled:hover {\n",
              "    background-color: var(--disabled-bg-color);\n",
              "    fill: var(--disabled-fill-color);\n",
              "    box-shadow: none;\n",
              "  }\n",
              "\n",
              "  .colab-df-spinner {\n",
              "    border: 2px solid var(--fill-color);\n",
              "    border-color: transparent;\n",
              "    border-bottom-color: var(--fill-color);\n",
              "    animation:\n",
              "      spin 1s steps(1) infinite;\n",
              "  }\n",
              "\n",
              "  @keyframes spin {\n",
              "    0% {\n",
              "      border-color: transparent;\n",
              "      border-bottom-color: var(--fill-color);\n",
              "      border-left-color: var(--fill-color);\n",
              "    }\n",
              "    20% {\n",
              "      border-color: transparent;\n",
              "      border-left-color: var(--fill-color);\n",
              "      border-top-color: var(--fill-color);\n",
              "    }\n",
              "    30% {\n",
              "      border-color: transparent;\n",
              "      border-left-color: var(--fill-color);\n",
              "      border-top-color: var(--fill-color);\n",
              "      border-right-color: var(--fill-color);\n",
              "    }\n",
              "    40% {\n",
              "      border-color: transparent;\n",
              "      border-right-color: var(--fill-color);\n",
              "      border-top-color: var(--fill-color);\n",
              "    }\n",
              "    60% {\n",
              "      border-color: transparent;\n",
              "      border-right-color: var(--fill-color);\n",
              "    }\n",
              "    80% {\n",
              "      border-color: transparent;\n",
              "      border-right-color: var(--fill-color);\n",
              "      border-bottom-color: var(--fill-color);\n",
              "    }\n",
              "    90% {\n",
              "      border-color: transparent;\n",
              "      border-bottom-color: var(--fill-color);\n",
              "    }\n",
              "  }\n",
              "</style>\n",
              "\n",
              "  <script>\n",
              "    async function quickchart(key) {\n",
              "      const quickchartButtonEl =\n",
              "        document.querySelector('#' + key + ' button');\n",
              "      quickchartButtonEl.disabled = true;  // To prevent multiple clicks.\n",
              "      quickchartButtonEl.classList.add('colab-df-spinner');\n",
              "      try {\n",
              "        const charts = await google.colab.kernel.invokeFunction(\n",
              "            'suggestCharts', [key], {});\n",
              "      } catch (error) {\n",
              "        console.error('Error during call to suggestCharts:', error);\n",
              "      }\n",
              "      quickchartButtonEl.classList.remove('colab-df-spinner');\n",
              "      quickchartButtonEl.classList.add('colab-df-quickchart-complete');\n",
              "    }\n",
              "    (() => {\n",
              "      let quickchartButtonEl =\n",
              "        document.querySelector('#df-69309219-4d36-4f50-aca5-b83dc8a132ee button');\n",
              "      quickchartButtonEl.style.display =\n",
              "        google.colab.kernel.accessAllowed ? 'block' : 'none';\n",
              "    })();\n",
              "  </script>\n",
              "</div>\n",
              "\n",
              "    </div>\n",
              "  </div>\n"
            ],
            "application/vnd.google.colaboratory.intrinsic+json": {
              "type": "dataframe",
              "variable_name": "pollute",
              "summary": "{\n  \"name\": \"pollute\",\n  \"rows\": 23463,\n  \"fields\": [\n    {\n      \"column\": \"Country\",\n      \"properties\": {\n        \"dtype\": \"category\",\n        \"num_unique_values\": 175,\n        \"samples\": [\n          \"Comoros\",\n          \"Turkmenistan\",\n          \"Honduras\"\n        ],\n        \"semantic_type\": \"\",\n        \"description\": \"\"\n      }\n    },\n    {\n      \"column\": \"City\",\n      \"properties\": {\n        \"dtype\": \"string\",\n        \"num_unique_values\": 23462,\n        \"samples\": [\n          \"Fonte Boa\",\n          \"Vidin\",\n          \"Kunda\"\n        ],\n        \"semantic_type\": \"\",\n        \"description\": \"\"\n      }\n    },\n    {\n      \"column\": \"AQI Value\",\n      \"properties\": {\n        \"dtype\": \"number\",\n        \"std\": 56,\n        \"min\": 6,\n        \"max\": 500,\n        \"num_unique_values\": 347,\n        \"samples\": [\n          250,\n          222,\n          348\n        ],\n        \"semantic_type\": \"\",\n        \"description\": \"\"\n      }\n    },\n    {\n      \"column\": \"AQI Category\",\n      \"properties\": {\n        \"dtype\": \"category\",\n        \"num_unique_values\": 6,\n        \"samples\": [\n          \"Moderate\",\n          \"Good\",\n          \"Hazardous\"\n        ],\n        \"semantic_type\": \"\",\n        \"description\": \"\"\n      }\n    },\n    {\n      \"column\": \"CO AQI Value\",\n      \"properties\": {\n        \"dtype\": \"number\",\n        \"std\": 1,\n        \"min\": 0,\n        \"max\": 133,\n        \"num_unique_values\": 34,\n        \"samples\": [\n          27,\n          13,\n          67\n        ],\n        \"semantic_type\": \"\",\n        \"description\": \"\"\n      }\n    },\n    {\n      \"column\": \"CO AQI Category\",\n      \"properties\": {\n        \"dtype\": \"category\",\n        \"num_unique_values\": 3,\n        \"samples\": [\n          \"Good\",\n          \"Unhealthy for Sensitive Groups\",\n          \"Moderate\"\n        ],\n        \"semantic_type\": \"\",\n        \"description\": \"\"\n      }\n    },\n    {\n      \"column\": \"Ozone AQI Value\",\n      \"properties\": {\n        \"dtype\": \"number\",\n        \"std\": 28,\n        \"min\": 0,\n        \"max\": 235,\n        \"num_unique_values\": 213,\n        \"samples\": [\n          89,\n          189,\n          138\n        ],\n        \"semantic_type\": \"\",\n        \"description\": \"\"\n      }\n    },\n    {\n      \"column\": \"Ozone AQI Category\",\n      \"properties\": {\n        \"dtype\": \"category\",\n        \"num_unique_values\": 5,\n        \"samples\": [\n          \"Moderate\",\n          \"Very Unhealthy\",\n          \"Unhealthy for Sensitive Groups\"\n        ],\n        \"semantic_type\": \"\",\n        \"description\": \"\"\n      }\n    },\n    {\n      \"column\": \"NO2 AQI Value\",\n      \"properties\": {\n        \"dtype\": \"number\",\n        \"std\": 5,\n        \"min\": 0,\n        \"max\": 91,\n        \"num_unique_values\": 59,\n        \"samples\": [\n          0,\n          7,\n          44\n        ],\n        \"semantic_type\": \"\",\n        \"description\": \"\"\n      }\n    },\n    {\n      \"column\": \"NO2 AQI Category\",\n      \"properties\": {\n        \"dtype\": \"category\",\n        \"num_unique_values\": 2,\n        \"samples\": [\n          \"Moderate\",\n          \"Good\"\n        ],\n        \"semantic_type\": \"\",\n        \"description\": \"\"\n      }\n    },\n    {\n      \"column\": \"PM2.5 AQI Value\",\n      \"properties\": {\n        \"dtype\": \"number\",\n        \"std\": 54,\n        \"min\": 0,\n        \"max\": 500,\n        \"num_unique_values\": 383,\n        \"samples\": [\n          136,\n          239\n        ],\n        \"semantic_type\": \"\",\n        \"description\": \"\"\n      }\n    },\n    {\n      \"column\": \"PM2.5 AQI Category\",\n      \"properties\": {\n        \"dtype\": \"category\",\n        \"num_unique_values\": 6,\n        \"samples\": [\n          \"Moderate\",\n          \"Good\"\n        ],\n        \"semantic_type\": \"\",\n        \"description\": \"\"\n      }\n    }\n  ]\n}"
            }
          },
          "metadata": {},
          "execution_count": 30
        }
      ],
      "source": [
        "pollute.head(10)"
      ]
    },
    {
      "cell_type": "markdown",
      "source": [
        "#### displays the raw data of the AQI in each Country and their major cities"
      ],
      "metadata": {
        "id": "cc-I6Ot6gvR5"
      }
    },
    {
      "cell_type": "markdown",
      "metadata": {
        "id": "brTBgKBSgSu9"
      },
      "source": [
        "# 2. AQI Data Summary"
      ]
    },
    {
      "cell_type": "code",
      "source": [
        "pollute['AQI Value'].describe()"
      ],
      "metadata": {
        "colab": {
          "base_uri": "https://localhost:8080/"
        },
        "id": "yUvbDV2bLmSj",
        "outputId": "43adfe1e-a01f-4f98-c698-1b7e8db2305f"
      },
      "execution_count": null,
      "outputs": [
        {
          "output_type": "execute_result",
          "data": {
            "text/plain": [
              "count    23463.000000\n",
              "mean        72.010868\n",
              "std         56.055220\n",
              "min          6.000000\n",
              "25%         39.000000\n",
              "50%         55.000000\n",
              "75%         79.000000\n",
              "max        500.000000\n",
              "Name: AQI Value, dtype: float64"
            ]
          },
          "metadata": {},
          "execution_count": 31
        }
      ]
    },
    {
      "cell_type": "markdown",
      "source": [
        "#### mean AQI value for each country and the country with the most average AQI value"
      ],
      "metadata": {
        "id": "B8Ajp1enih5y"
      }
    },
    {
      "cell_type": "code",
      "source": [
        "# Calculate the mean AQI for each country\n",
        "mean_aqi_by_country = pollute.groupby('Country')['AQI Value'].mean()\n",
        "mean_aqi = np.mean(pollute['AQI Value'])\n",
        "\n",
        "# Find the country with the closest mean AQI to the overall mean\n",
        "closest_country = np.argmin(np.abs(mean_aqi_by_country - mean_aqi))\n",
        "\n",
        "# Print the country with the closest mean AQI\n",
        "print(f\"Country with closest mean AQI: {mean_aqi_by_country.index[closest_country]} (Mean AQI: {mean_aqi_by_country.values[closest_country]})\")\n"
      ],
      "metadata": {
        "colab": {
          "base_uri": "https://localhost:8080/"
        },
        "id": "oXEmuIO1iSZg",
        "outputId": "abe8cc03-3df0-45e6-c9d7-3f74f0208535"
      },
      "execution_count": null,
      "outputs": [
        {
          "output_type": "stream",
          "name": "stdout",
          "text": [
            "Country with closest mean AQI: Lebanon (Mean AQI: 72.0)\n"
          ]
        }
      ]
    },
    {
      "cell_type": "markdown",
      "source": [
        "#### mean AQI value for each country and the city with the most average AQI value"
      ],
      "metadata": {
        "id": "tZRGExMug_Pl"
      }
    },
    {
      "cell_type": "code",
      "source": [
        "# Calculate the mean AQI\n",
        "mean_aqi = np.mean(pollute['AQI Value'])\n",
        "\n",
        "# Find the city with the closest AQI to the mean\n",
        "closest_aqi = np.argmin(np.abs(pollute['AQI Value'] - mean_aqi))\n",
        "\n",
        "# Print the mean AQI and the city with the closest AQI\n",
        "print(f\"Mean AQI: {mean_aqi}\")\n",
        "print(f\"City with closest AQI: {pollute['City'][closest_aqi]} (AQI: {pollute['AQI Value'][closest_aqi]})\")"
      ],
      "metadata": {
        "colab": {
          "base_uri": "https://localhost:8080/"
        },
        "id": "B8wvskM_mZ8W",
        "outputId": "4d531d84-e88d-468a-b61d-539fe853f076"
      },
      "execution_count": null,
      "outputs": [
        {
          "output_type": "stream",
          "name": "stdout",
          "text": [
            "Mean AQI: 72.01086817542513\n",
            "City with closest AQI: Phoenix (AQI: 72)\n"
          ]
        }
      ]
    },
    {
      "cell_type": "markdown",
      "source": [
        "#### the country with the highest AQI value"
      ],
      "metadata": {
        "id": "CP7un0w7iwnW"
      }
    },
    {
      "cell_type": "code",
      "source": [
        "# Calculate the mean AQI for each country\n",
        "mean_aqi_by_country = pollute.groupby('Country')['AQI Value'].mean()\n",
        "\n",
        "# Find the country with the highest mean AQI\n",
        "max_mean_aqi_country = mean_aqi_by_country.idxmax()\n",
        "max_mean_aqi_value = mean_aqi_by_country.loc[max_mean_aqi_country]\n",
        "\n",
        "# Print the country with the highest mean AQI and its average AQI\n",
        "#print(f\"Country with highest average AQI: {max_mean_aqi_country} (Average AQI: {max_mean_aqi_value})\")\n"
      ],
      "metadata": {
        "colab": {
          "base_uri": "https://localhost:8080/"
        },
        "id": "RFZoZ00njb8a",
        "outputId": "51603fbf-2441-4a27-b726-05228fd79754"
      },
      "execution_count": null,
      "outputs": [
        {
          "output_type": "stream",
          "name": "stdout",
          "text": [
            "Country with highest average AQI: Republic of Korea (Average AQI: 421.0)\n"
          ]
        }
      ]
    },
    {
      "cell_type": "markdown",
      "source": [
        "Why does Korea have an abnormal pollution level?:\n",
        "\n",
        "- in the data set there is only one major city that represents Korea\n",
        "- Seoul, the capital of Korea, is a dense and highly populated area\n",
        "- residents may live 1.7 years less if the city's high pollution levels persist"
      ],
      "metadata": {
        "id": "IaOGJQWtMpEl"
      }
    },
    {
      "cell_type": "markdown",
      "source": [
        "#### the city with the highest AQI value"
      ],
      "metadata": {
        "id": "_E72JCizhTAG"
      }
    },
    {
      "cell_type": "code",
      "source": [
        "# Calculate the highest AQI\n",
        "highest_AQI_city = pollute.groupby('City')['AQI Value'].mean().sort_values(ascending=False).head(1).index[0]\n",
        "highest_AQI = pollute[pollute['City'] == highest_AQI_city]['AQI Value'].max()\n",
        "\n",
        "print(f\"The AQI of the city with the highest AQI is {highest_AQI_city }: {highest_AQI}.\")"
      ],
      "metadata": {
        "colab": {
          "base_uri": "https://localhost:8080/"
        },
        "id": "Zwd0vSdDpR5I",
        "outputId": "a422f1ba-5ada-4b16-b102-fbe6cdfa0e8d"
      },
      "execution_count": null,
      "outputs": [
        {
          "output_type": "stream",
          "name": "stdout",
          "text": [
            "The AQI of the city with the highest AQI is Puranpur: 500.\n"
          ]
        }
      ]
    },
    {
      "cell_type": "markdown",
      "source": [
        "#### the country with the lowest AQI value"
      ],
      "metadata": {
        "id": "KiBiQHViEyfm"
      }
    },
    {
      "cell_type": "code",
      "source": [
        "# Calculate the mean AQI for each country\n",
        "mean_aqi_by_country = pollute.groupby('Country')['AQI Value'].mean()\n",
        "\n",
        "# Find the country with the lowest mean AQI\n",
        "min_mean_aqi_country = mean_aqi_by_country.idxmin()\n",
        "min_mean_aqi_value = mean_aqi_by_country.loc[min_mean_aqi_country]\n",
        "\n",
        "# Print the country with the lowest mean AQI and its average AQI\n",
        "print(f\"Country with the lowest average AQI: {min_mean_aqi_country} (Average AQI: {min_mean_aqi_value})\")\n"
      ],
      "metadata": {
        "colab": {
          "base_uri": "https://localhost:8080/"
        },
        "id": "IgDBw0zBjo0Q",
        "outputId": "c96a228a-5290-4f51-dc40-500e998a76f9"
      },
      "execution_count": null,
      "outputs": [
        {
          "output_type": "stream",
          "name": "stdout",
          "text": [
            "Country with the lowest average AQI: Palau (Average AQI: 16.0)\n"
          ]
        }
      ]
    },
    {
      "cell_type": "markdown",
      "source": [
        "#### the city with the lowest AQI value"
      ],
      "metadata": {
        "id": "oCEnCD9qhKEz"
      }
    },
    {
      "cell_type": "code",
      "source": [
        "# Calculate the lowest AQI\n",
        "lowest_AQI_city = pollute.groupby('City')['AQI Value'].mean().sort_values(ascending=True).head(1).index[0]\n",
        "lowest_AQI = pollute[pollute['City'] == lowest_AQI_city]['AQI Value'].min()\n",
        "\n",
        "print(f\"The AQI of the city with the lowest AQI is {lowest_AQI_city}: {lowest_AQI}.\")"
      ],
      "metadata": {
        "colab": {
          "base_uri": "https://localhost:8080/"
        },
        "id": "BqdLlBO2szrC",
        "outputId": "1d1f95b3-a5c6-4f43-88c5-1377662c9aec"
      },
      "execution_count": null,
      "outputs": [
        {
          "output_type": "stream",
          "name": "stdout",
          "text": [
            "The AQI of the city with the lowest AQI is El Torno: 6.\n"
          ]
        }
      ]
    },
    {
      "cell_type": "markdown",
      "metadata": {
        "id": "FMFifGxkh6aP"
      },
      "source": [
        "# 3. AQI Data Heat Map"
      ]
    },
    {
      "cell_type": "code",
      "source": [
        "import plotly.express as px\n",
        "\n",
        "# Get average AQI values per country\n",
        "pollute_country = pollute.groupby(\"Country\")[\"AQI Value\"].mean().reset_index()\n",
        "\n",
        "# Create heatmap with index\n",
        "fig = px.choropleth(pollute_country, locations=\"Country\", locationmode=\"country names\",\n",
        "                    color=\"AQI Value\", hover_name=\"Country\",\n",
        "                    color_continuous_scale=\"Turbo\",\n",
        "                    title=\"Average Air Quality Index by Country\")\n",
        "\n",
        "fig.show()"
      ],
      "metadata": {
        "colab": {
          "base_uri": "https://localhost:8080/",
          "height": 542
        },
        "id": "rDMyAwoWcV4r",
        "outputId": "3907b7aa-5072-40ed-f29c-db701c7cfa3d"
      },
      "execution_count": null,
      "outputs": [
        {
          "output_type": "display_data",
          "data": {
            "text/html": [
              "<html>\n",
              "<head><meta charset=\"utf-8\" /></head>\n",
              "<body>\n",
              "    <div>            <script src=\"https://cdnjs.cloudflare.com/ajax/libs/mathjax/2.7.5/MathJax.js?config=TeX-AMS-MML_SVG\"></script><script type=\"text/javascript\">if (window.MathJax && window.MathJax.Hub && window.MathJax.Hub.Config) {window.MathJax.Hub.Config({SVG: {font: \"STIX-Web\"}});}</script>                <script type=\"text/javascript\">window.PlotlyConfig = {MathJaxConfig: 'local'};</script>\n",
              "        <script charset=\"utf-8\" src=\"https://cdn.plot.ly/plotly-2.24.1.min.js\"></script>                <div id=\"67c57cdd-c4dd-421e-8342-f4f47603befc\" class=\"plotly-graph-div\" style=\"height:525px; width:100%;\"></div>            <script type=\"text/javascript\">                                    window.PLOTLYENV=window.PLOTLYENV || {};                                    if (document.getElementById(\"67c57cdd-c4dd-421e-8342-f4f47603befc\")) {                    Plotly.newPlot(                        \"67c57cdd-c4dd-421e-8342-f4f47603befc\",                        [{\"coloraxis\":\"coloraxis\",\"geo\":\"geo\",\"hovertemplate\":\"\\u003cb\\u003e%{hovertext}\\u003c\\u002fb\\u003e\\u003cbr\\u003e\\u003cbr\\u003eCountry=%{location}\\u003cbr\\u003eAQI Value=%{z}\\u003cextra\\u003e\\u003c\\u002fextra\\u003e\",\"hovertext\":[\"Afghanistan\",\"Albania\",\"Algeria\",\"Andorra\",\"Angola\",\"Argentina\",\"Armenia\",\"Aruba\",\"Australia\",\"Austria\",\"Azerbaijan\",\"Bahrain\",\"Bangladesh\",\"Barbados\",\"Belarus\",\"Belgium\",\"Belize\",\"Benin\",\"Bhutan\",\"Bolivia (Plurinational State of)\",\"Bosnia and Herzegovina\",\"Botswana\",\"Brazil\",\"Bulgaria\",\"Burkina Faso\",\"Burundi\",\"Cabo Verde\",\"Cambodia\",\"Cameroon\",\"Canada\",\"Central African Republic\",\"Chad\",\"Chile\",\"China\",\"Colombia\",\"Comoros\",\"Congo\",\"Costa Rica\",\"Croatia\",\"Cuba\",\"Cyprus\",\"Czechia\",\"C\\u00f4te d'Ivoire\",\"Democratic Republic of the Congo\",\"Denmark\",\"Dominican Republic\",\"Ecuador\",\"Egypt\",\"El Salvador\",\"Equatorial Guinea\",\"Eritrea\",\"Estonia\",\"Ethiopia\",\"Finland\",\"France\",\"Gabon\",\"Gambia\",\"Georgia\",\"Germany\",\"Ghana\",\"Greece\",\"Guatemala\",\"Guinea\",\"Guinea-Bissau\",\"Guyana\",\"Haiti\",\"Honduras\",\"Hungary\",\"Iceland\",\"India\",\"Indonesia\",\"Iran (Islamic Republic of)\",\"Iraq\",\"Ireland\",\"Israel\",\"Italy\",\"Jamaica\",\"Japan\",\"Jordan\",\"Kazakhstan\",\"Kenya\",\"Kingdom of Eswatini\",\"Kuwait\",\"Kyrgyzstan\",\"Lao People's Democratic Republic\",\"Latvia\",\"Lebanon\",\"Lesotho\",\"Liberia\",\"Libya\",\"Lithuania\",\"Luxembourg\",\"Madagascar\",\"Malawi\",\"Malaysia\",\"Maldives\",\"Mali\",\"Malta\",\"Mauritania\",\"Mauritius\",\"Mexico\",\"Monaco\",\"Mongolia\",\"Montenegro\",\"Morocco\",\"Mozambique\",\"Myanmar\",\"Namibia\",\"Nepal\",\"Netherlands\",\"New Zealand\",\"Nicaragua\",\"Niger\",\"Nigeria\",\"Norway\",\"Oman\",\"Pakistan\",\"Palau\",\"Panama\",\"Papua New Guinea\",\"Paraguay\",\"Peru\",\"Philippines\",\"Poland\",\"Portugal\",\"Qatar\",\"Republic of Korea\",\"Republic of Moldova\",\"Republic of North Macedonia\",\"Romania\",\"Russian Federation\",\"Rwanda\",\"Saint Kitts and Nevis\",\"Saint Lucia\",\"Saudi Arabia\",\"Senegal\",\"Serbia\",\"Seychelles\",\"Sierra Leone\",\"Singapore\",\"Slovakia\",\"Slovenia\",\"Solomon Islands\",\"Somalia\",\"South Africa\",\"South Sudan\",\"Spain\",\"Sri Lanka\",\"State of Palestine\",\"Sudan\",\"Suriname\",\"Sweden\",\"Switzerland\",\"Syrian Arab Republic\",\"Tajikistan\",\"Thailand\",\"Togo\",\"Trinidad and Tobago\",\"Tunisia\",\"Turkey\",\"Turkmenistan\",\"Uganda\",\"Ukraine\",\"United Arab Emirates\",\"United Kingdom of Great Britain and Northern Ireland\",\"United Republic of Tanzania\",\"United States of America\",\"Uruguay\",\"Uzbekistan\",\"Vanuatu\",\"Venezuela (Bolivarian Republic of)\",\"Viet Nam\",\"Yemen\",\"Zambia\",\"Zimbabwe\"],\"locationmode\":\"country names\",\"locations\":[\"Afghanistan\",\"Albania\",\"Algeria\",\"Andorra\",\"Angola\",\"Argentina\",\"Armenia\",\"Aruba\",\"Australia\",\"Austria\",\"Azerbaijan\",\"Bahrain\",\"Bangladesh\",\"Barbados\",\"Belarus\",\"Belgium\",\"Belize\",\"Benin\",\"Bhutan\",\"Bolivia (Plurinational State of)\",\"Bosnia and Herzegovina\",\"Botswana\",\"Brazil\",\"Bulgaria\",\"Burkina Faso\",\"Burundi\",\"Cabo Verde\",\"Cambodia\",\"Cameroon\",\"Canada\",\"Central African Republic\",\"Chad\",\"Chile\",\"China\",\"Colombia\",\"Comoros\",\"Congo\",\"Costa Rica\",\"Croatia\",\"Cuba\",\"Cyprus\",\"Czechia\",\"C\\u00f4te d'Ivoire\",\"Democratic Republic of the Congo\",\"Denmark\",\"Dominican Republic\",\"Ecuador\",\"Egypt\",\"El Salvador\",\"Equatorial Guinea\",\"Eritrea\",\"Estonia\",\"Ethiopia\",\"Finland\",\"France\",\"Gabon\",\"Gambia\",\"Georgia\",\"Germany\",\"Ghana\",\"Greece\",\"Guatemala\",\"Guinea\",\"Guinea-Bissau\",\"Guyana\",\"Haiti\",\"Honduras\",\"Hungary\",\"Iceland\",\"India\",\"Indonesia\",\"Iran (Islamic Republic of)\",\"Iraq\",\"Ireland\",\"Israel\",\"Italy\",\"Jamaica\",\"Japan\",\"Jordan\",\"Kazakhstan\",\"Kenya\",\"Kingdom of Eswatini\",\"Kuwait\",\"Kyrgyzstan\",\"Lao People's Democratic Republic\",\"Latvia\",\"Lebanon\",\"Lesotho\",\"Liberia\",\"Libya\",\"Lithuania\",\"Luxembourg\",\"Madagascar\",\"Malawi\",\"Malaysia\",\"Maldives\",\"Mali\",\"Malta\",\"Mauritania\",\"Mauritius\",\"Mexico\",\"Monaco\",\"Mongolia\",\"Montenegro\",\"Morocco\",\"Mozambique\",\"Myanmar\",\"Namibia\",\"Nepal\",\"Netherlands\",\"New Zealand\",\"Nicaragua\",\"Niger\",\"Nigeria\",\"Norway\",\"Oman\",\"Pakistan\",\"Palau\",\"Panama\",\"Papua New Guinea\",\"Paraguay\",\"Peru\",\"Philippines\",\"Poland\",\"Portugal\",\"Qatar\",\"Republic of Korea\",\"Republic of Moldova\",\"Republic of North Macedonia\",\"Romania\",\"Russian Federation\",\"Rwanda\",\"Saint Kitts and Nevis\",\"Saint Lucia\",\"Saudi Arabia\",\"Senegal\",\"Serbia\",\"Seychelles\",\"Sierra Leone\",\"Singapore\",\"Slovakia\",\"Slovenia\",\"Solomon Islands\",\"Somalia\",\"South Africa\",\"South Sudan\",\"Spain\",\"Sri Lanka\",\"State of Palestine\",\"Sudan\",\"Suriname\",\"Sweden\",\"Switzerland\",\"Syrian Arab Republic\",\"Tajikistan\",\"Thailand\",\"Togo\",\"Trinidad and Tobago\",\"Tunisia\",\"Turkey\",\"Turkmenistan\",\"Uganda\",\"Ukraine\",\"United Arab Emirates\",\"United Kingdom of Great Britain and Northern Ireland\",\"United Republic of Tanzania\",\"United States of America\",\"Uruguay\",\"Uzbekistan\",\"Vanuatu\",\"Venezuela (Bolivarian Republic of)\",\"Viet Nam\",\"Yemen\",\"Zambia\",\"Zimbabwe\"],\"name\":\"\",\"z\":[95.95918367346938,68.25,88.16666666666667,29.333333333333332,83.92592592592592,28.235294117647058,53.63636363636363,163.0,33.6,53.720588235294116,58.76315789473684,188.0,113.4625,73.0,38.45454545454545,44.58098591549296,46.333333333333336,67.11111111111111,26.0,23.78787878787879,60.55555555555556,43.578947368421055,44.57490396927017,54.261538461538464,51.588235294117645,62.69230769230769,38.0,45.25,69.015625,43.262411347517734,64.16666666666667,75.33333333333333,87.85185185185185,126.95345911949686,66.068,33.0,87.58333333333333,58.81578947368421,57.935483870967744,63.07142857142857,50.833333333333336,60.90551181102362,53.28358208955224,114.81428571428572,38.016666666666666,108.07894736842105,45.333333333333336,101.65,97.36363636363636,45.25,99.2,38.833333333333336,78.73170731707317,38.370370370370374,53.33790523690773,78.1,147.0,40.6,48.24684014869889,62.793103448275865,68.28846153846153,80.9504132231405,62.476190476190474,138.75,45.5,101.72222222222223,63.42857142857143,63.605633802816904,23.0,152.96422829581994,93.03693931398416,108.29608938547486,114.07142857142857,40.225806451612904,87.40425531914893,62.00408580183861,90.66666666666667,51.72364672364672,96.83333333333333,61.2112676056338,74.16666666666667,119.33333333333333,162.0,81.53846153846153,43.5,39.90909090909091,72.0,89.6,38.0,105.4,38.13157894736842,44.5,30.953846153846154,47.333333333333336,81.616,19.0,83.16,51.36363636363637,179.0,41.0,89.5374149659864,56.0,53.4,64.75,45.36842105263158,36.82608695652174,40.16949152542373,76.88235294117646,116.36363636363636,38.13758389261745,30.727272727272727,47.972972972972975,75.6896551724138,99.61111111111111,35.476190476190474,137.5,178.78827361563518,16.0,68.44444444444444,24.866666666666667,42.76923076923077,36.4296875,61.195845697329375,52.46015424164524,34.6078431372549,157.5,421.0,52.964285714285715,66.78260869565217,53.93364928909953,42.50684931506849,93.53846153846153,90.0,79.0,149.28571428571428,152.42424242424244,67.98876404494382,26.0,44.2,91.0,67.53225806451613,70.875,18.0,72.05555555555556,113.04022988505747,60.333333333333336,38.45647058823529,63.52173913043478,86.0,78.85714285714286,43.333333333333336,36.16494845360825,55.21551724137931,86.93333333333334,115.20689655172414,53.58130081300813,65.15789473684211,94.5,70.9090909090909,51.66804979253112,104.72222222222223,85.31746031746032,51.054794520547944,163.66666666666666,39.515,31.633187772925766,59.74059888579387,26.653846153846153,119.08620689655173,30.0,77.72222222222223,87.05,144.57142857142858,40.666666666666664,43.74074074074074],\"type\":\"choropleth\"}],                        {\"template\":{\"data\":{\"histogram2dcontour\":[{\"type\":\"histogram2dcontour\",\"colorbar\":{\"outlinewidth\":0,\"ticks\":\"\"},\"colorscale\":[[0.0,\"#0d0887\"],[0.1111111111111111,\"#46039f\"],[0.2222222222222222,\"#7201a8\"],[0.3333333333333333,\"#9c179e\"],[0.4444444444444444,\"#bd3786\"],[0.5555555555555556,\"#d8576b\"],[0.6666666666666666,\"#ed7953\"],[0.7777777777777778,\"#fb9f3a\"],[0.8888888888888888,\"#fdca26\"],[1.0,\"#f0f921\"]]}],\"choropleth\":[{\"type\":\"choropleth\",\"colorbar\":{\"outlinewidth\":0,\"ticks\":\"\"}}],\"histogram2d\":[{\"type\":\"histogram2d\",\"colorbar\":{\"outlinewidth\":0,\"ticks\":\"\"},\"colorscale\":[[0.0,\"#0d0887\"],[0.1111111111111111,\"#46039f\"],[0.2222222222222222,\"#7201a8\"],[0.3333333333333333,\"#9c179e\"],[0.4444444444444444,\"#bd3786\"],[0.5555555555555556,\"#d8576b\"],[0.6666666666666666,\"#ed7953\"],[0.7777777777777778,\"#fb9f3a\"],[0.8888888888888888,\"#fdca26\"],[1.0,\"#f0f921\"]]}],\"heatmap\":[{\"type\":\"heatmap\",\"colorbar\":{\"outlinewidth\":0,\"ticks\":\"\"},\"colorscale\":[[0.0,\"#0d0887\"],[0.1111111111111111,\"#46039f\"],[0.2222222222222222,\"#7201a8\"],[0.3333333333333333,\"#9c179e\"],[0.4444444444444444,\"#bd3786\"],[0.5555555555555556,\"#d8576b\"],[0.6666666666666666,\"#ed7953\"],[0.7777777777777778,\"#fb9f3a\"],[0.8888888888888888,\"#fdca26\"],[1.0,\"#f0f921\"]]}],\"heatmapgl\":[{\"type\":\"heatmapgl\",\"colorbar\":{\"outlinewidth\":0,\"ticks\":\"\"},\"colorscale\":[[0.0,\"#0d0887\"],[0.1111111111111111,\"#46039f\"],[0.2222222222222222,\"#7201a8\"],[0.3333333333333333,\"#9c179e\"],[0.4444444444444444,\"#bd3786\"],[0.5555555555555556,\"#d8576b\"],[0.6666666666666666,\"#ed7953\"],[0.7777777777777778,\"#fb9f3a\"],[0.8888888888888888,\"#fdca26\"],[1.0,\"#f0f921\"]]}],\"contourcarpet\":[{\"type\":\"contourcarpet\",\"colorbar\":{\"outlinewidth\":0,\"ticks\":\"\"}}],\"contour\":[{\"type\":\"contour\",\"colorbar\":{\"outlinewidth\":0,\"ticks\":\"\"},\"colorscale\":[[0.0,\"#0d0887\"],[0.1111111111111111,\"#46039f\"],[0.2222222222222222,\"#7201a8\"],[0.3333333333333333,\"#9c179e\"],[0.4444444444444444,\"#bd3786\"],[0.5555555555555556,\"#d8576b\"],[0.6666666666666666,\"#ed7953\"],[0.7777777777777778,\"#fb9f3a\"],[0.8888888888888888,\"#fdca26\"],[1.0,\"#f0f921\"]]}],\"surface\":[{\"type\":\"surface\",\"colorbar\":{\"outlinewidth\":0,\"ticks\":\"\"},\"colorscale\":[[0.0,\"#0d0887\"],[0.1111111111111111,\"#46039f\"],[0.2222222222222222,\"#7201a8\"],[0.3333333333333333,\"#9c179e\"],[0.4444444444444444,\"#bd3786\"],[0.5555555555555556,\"#d8576b\"],[0.6666666666666666,\"#ed7953\"],[0.7777777777777778,\"#fb9f3a\"],[0.8888888888888888,\"#fdca26\"],[1.0,\"#f0f921\"]]}],\"mesh3d\":[{\"type\":\"mesh3d\",\"colorbar\":{\"outlinewidth\":0,\"ticks\":\"\"}}],\"scatter\":[{\"fillpattern\":{\"fillmode\":\"overlay\",\"size\":10,\"solidity\":0.2},\"type\":\"scatter\"}],\"parcoords\":[{\"type\":\"parcoords\",\"line\":{\"colorbar\":{\"outlinewidth\":0,\"ticks\":\"\"}}}],\"scatterpolargl\":[{\"type\":\"scatterpolargl\",\"marker\":{\"colorbar\":{\"outlinewidth\":0,\"ticks\":\"\"}}}],\"bar\":[{\"error_x\":{\"color\":\"#2a3f5f\"},\"error_y\":{\"color\":\"#2a3f5f\"},\"marker\":{\"line\":{\"color\":\"#E5ECF6\",\"width\":0.5},\"pattern\":{\"fillmode\":\"overlay\",\"size\":10,\"solidity\":0.2}},\"type\":\"bar\"}],\"scattergeo\":[{\"type\":\"scattergeo\",\"marker\":{\"colorbar\":{\"outlinewidth\":0,\"ticks\":\"\"}}}],\"scatterpolar\":[{\"type\":\"scatterpolar\",\"marker\":{\"colorbar\":{\"outlinewidth\":0,\"ticks\":\"\"}}}],\"histogram\":[{\"marker\":{\"pattern\":{\"fillmode\":\"overlay\",\"size\":10,\"solidity\":0.2}},\"type\":\"histogram\"}],\"scattergl\":[{\"type\":\"scattergl\",\"marker\":{\"colorbar\":{\"outlinewidth\":0,\"ticks\":\"\"}}}],\"scatter3d\":[{\"type\":\"scatter3d\",\"line\":{\"colorbar\":{\"outlinewidth\":0,\"ticks\":\"\"}},\"marker\":{\"colorbar\":{\"outlinewidth\":0,\"ticks\":\"\"}}}],\"scattermapbox\":[{\"type\":\"scattermapbox\",\"marker\":{\"colorbar\":{\"outlinewidth\":0,\"ticks\":\"\"}}}],\"scatterternary\":[{\"type\":\"scatterternary\",\"marker\":{\"colorbar\":{\"outlinewidth\":0,\"ticks\":\"\"}}}],\"scattercarpet\":[{\"type\":\"scattercarpet\",\"marker\":{\"colorbar\":{\"outlinewidth\":0,\"ticks\":\"\"}}}],\"carpet\":[{\"aaxis\":{\"endlinecolor\":\"#2a3f5f\",\"gridcolor\":\"white\",\"linecolor\":\"white\",\"minorgridcolor\":\"white\",\"startlinecolor\":\"#2a3f5f\"},\"baxis\":{\"endlinecolor\":\"#2a3f5f\",\"gridcolor\":\"white\",\"linecolor\":\"white\",\"minorgridcolor\":\"white\",\"startlinecolor\":\"#2a3f5f\"},\"type\":\"carpet\"}],\"table\":[{\"cells\":{\"fill\":{\"color\":\"#EBF0F8\"},\"line\":{\"color\":\"white\"}},\"header\":{\"fill\":{\"color\":\"#C8D4E3\"},\"line\":{\"color\":\"white\"}},\"type\":\"table\"}],\"barpolar\":[{\"marker\":{\"line\":{\"color\":\"#E5ECF6\",\"width\":0.5},\"pattern\":{\"fillmode\":\"overlay\",\"size\":10,\"solidity\":0.2}},\"type\":\"barpolar\"}],\"pie\":[{\"automargin\":true,\"type\":\"pie\"}]},\"layout\":{\"autotypenumbers\":\"strict\",\"colorway\":[\"#636efa\",\"#EF553B\",\"#00cc96\",\"#ab63fa\",\"#FFA15A\",\"#19d3f3\",\"#FF6692\",\"#B6E880\",\"#FF97FF\",\"#FECB52\"],\"font\":{\"color\":\"#2a3f5f\"},\"hovermode\":\"closest\",\"hoverlabel\":{\"align\":\"left\"},\"paper_bgcolor\":\"white\",\"plot_bgcolor\":\"#E5ECF6\",\"polar\":{\"bgcolor\":\"#E5ECF6\",\"angularaxis\":{\"gridcolor\":\"white\",\"linecolor\":\"white\",\"ticks\":\"\"},\"radialaxis\":{\"gridcolor\":\"white\",\"linecolor\":\"white\",\"ticks\":\"\"}},\"ternary\":{\"bgcolor\":\"#E5ECF6\",\"aaxis\":{\"gridcolor\":\"white\",\"linecolor\":\"white\",\"ticks\":\"\"},\"baxis\":{\"gridcolor\":\"white\",\"linecolor\":\"white\",\"ticks\":\"\"},\"caxis\":{\"gridcolor\":\"white\",\"linecolor\":\"white\",\"ticks\":\"\"}},\"coloraxis\":{\"colorbar\":{\"outlinewidth\":0,\"ticks\":\"\"}},\"colorscale\":{\"sequential\":[[0.0,\"#0d0887\"],[0.1111111111111111,\"#46039f\"],[0.2222222222222222,\"#7201a8\"],[0.3333333333333333,\"#9c179e\"],[0.4444444444444444,\"#bd3786\"],[0.5555555555555556,\"#d8576b\"],[0.6666666666666666,\"#ed7953\"],[0.7777777777777778,\"#fb9f3a\"],[0.8888888888888888,\"#fdca26\"],[1.0,\"#f0f921\"]],\"sequentialminus\":[[0.0,\"#0d0887\"],[0.1111111111111111,\"#46039f\"],[0.2222222222222222,\"#7201a8\"],[0.3333333333333333,\"#9c179e\"],[0.4444444444444444,\"#bd3786\"],[0.5555555555555556,\"#d8576b\"],[0.6666666666666666,\"#ed7953\"],[0.7777777777777778,\"#fb9f3a\"],[0.8888888888888888,\"#fdca26\"],[1.0,\"#f0f921\"]],\"diverging\":[[0,\"#8e0152\"],[0.1,\"#c51b7d\"],[0.2,\"#de77ae\"],[0.3,\"#f1b6da\"],[0.4,\"#fde0ef\"],[0.5,\"#f7f7f7\"],[0.6,\"#e6f5d0\"],[0.7,\"#b8e186\"],[0.8,\"#7fbc41\"],[0.9,\"#4d9221\"],[1,\"#276419\"]]},\"xaxis\":{\"gridcolor\":\"white\",\"linecolor\":\"white\",\"ticks\":\"\",\"title\":{\"standoff\":15},\"zerolinecolor\":\"white\",\"automargin\":true,\"zerolinewidth\":2},\"yaxis\":{\"gridcolor\":\"white\",\"linecolor\":\"white\",\"ticks\":\"\",\"title\":{\"standoff\":15},\"zerolinecolor\":\"white\",\"automargin\":true,\"zerolinewidth\":2},\"scene\":{\"xaxis\":{\"backgroundcolor\":\"#E5ECF6\",\"gridcolor\":\"white\",\"linecolor\":\"white\",\"showbackground\":true,\"ticks\":\"\",\"zerolinecolor\":\"white\",\"gridwidth\":2},\"yaxis\":{\"backgroundcolor\":\"#E5ECF6\",\"gridcolor\":\"white\",\"linecolor\":\"white\",\"showbackground\":true,\"ticks\":\"\",\"zerolinecolor\":\"white\",\"gridwidth\":2},\"zaxis\":{\"backgroundcolor\":\"#E5ECF6\",\"gridcolor\":\"white\",\"linecolor\":\"white\",\"showbackground\":true,\"ticks\":\"\",\"zerolinecolor\":\"white\",\"gridwidth\":2}},\"shapedefaults\":{\"line\":{\"color\":\"#2a3f5f\"}},\"annotationdefaults\":{\"arrowcolor\":\"#2a3f5f\",\"arrowhead\":0,\"arrowwidth\":1},\"geo\":{\"bgcolor\":\"white\",\"landcolor\":\"#E5ECF6\",\"subunitcolor\":\"white\",\"showland\":true,\"showlakes\":true,\"lakecolor\":\"white\"},\"title\":{\"x\":0.05},\"mapbox\":{\"style\":\"light\"}}},\"geo\":{\"domain\":{\"x\":[0.0,1.0],\"y\":[0.0,1.0]},\"center\":{}},\"coloraxis\":{\"colorbar\":{\"title\":{\"text\":\"AQI Value\"}},\"colorscale\":[[0.0,\"#30123b\"],[0.07142857142857142,\"#4145ab\"],[0.14285714285714285,\"#4675ed\"],[0.21428571428571427,\"#39a2fc\"],[0.2857142857142857,\"#1bcfd4\"],[0.35714285714285715,\"#24eca6\"],[0.42857142857142855,\"#61fc6c\"],[0.5,\"#a4fc3b\"],[0.5714285714285714,\"#d1e834\"],[0.6428571428571429,\"#f3c63a\"],[0.7142857142857143,\"#fe9b2d\"],[0.7857142857142857,\"#f36315\"],[0.8571428571428571,\"#d93806\"],[0.9285714285714286,\"#b11901\"],[1.0,\"#7a0402\"]]},\"legend\":{\"tracegroupgap\":0},\"title\":{\"text\":\"Average Air Quality Index by Country\"}},                        {\"responsive\": true}                    ).then(function(){\n",
              "                            \n",
              "var gd = document.getElementById('67c57cdd-c4dd-421e-8342-f4f47603befc');\n",
              "var x = new MutationObserver(function (mutations, observer) {{\n",
              "        var display = window.getComputedStyle(gd).display;\n",
              "        if (!display || display === 'none') {{\n",
              "            console.log([gd, 'removed!']);\n",
              "            Plotly.purge(gd);\n",
              "            observer.disconnect();\n",
              "        }}\n",
              "}});\n",
              "\n",
              "// Listen for the removal of the full notebook cells\n",
              "var notebookContainer = gd.closest('#notebook-container');\n",
              "if (notebookContainer) {{\n",
              "    x.observe(notebookContainer, {childList: true});\n",
              "}}\n",
              "\n",
              "// Listen for the clearing of the current output cell\n",
              "var outputEl = gd.closest('.output');\n",
              "if (outputEl) {{\n",
              "    x.observe(outputEl, {childList: true});\n",
              "}}\n",
              "\n",
              "                        })                };                            </script>        </div>\n",
              "</body>\n",
              "</html>"
            ]
          },
          "metadata": {}
        }
      ]
    },
    {
      "cell_type": "code",
      "source": [
        "#ask for highest country\n",
        "print(\"Make sure you use the same name as the country when you hover over the map.\")\n",
        "answer = input(\"What country has the highest AQI score? \").lower()\n",
        "if answer = min_mean_aqi_country.lower():\n",
        "  print(\"Correct!\")\n",
        "else:\n",
        "  print(\"Hint: try to look for the reddest country on the map. \")\n",
        "  answer = input(\"What country has the highest AQI score? \").lower()\n",
        "  if answer = min_mean_aqi_country.lower():\n",
        "    print(\"Correct!\")\n",
        "  else:\n",
        "    print(\"The correct answer was the Republic of Korea with an AQI of 421.\")"
      ],
      "metadata": {
        "id": "GbrrLhWODzLL"
      },
      "execution_count": null,
      "outputs": []
    },
    {
      "cell_type": "code",
      "source": [
        "def display_stat(country):\n",
        "  pollute_country = pollute[pollute['Country'] == country]\n",
        "\n",
        "  # Calculate the mean AQI\n",
        "  mean_aqi = np.mean(pollute_country['AQI Value'])\n",
        "\n",
        "  # Find the city with the closest AQI to the mean\n",
        "  closest_aqi = np.argmin(np.abs(pollute_country['AQI Value'] - mean_aqi))\n",
        "\n",
        "  # Print the mean AQI and the city with the closest AQI\n",
        "  print(f\"Mean AQI for {country}: {mean_aqi}\")\n",
        "\n",
        "  highest_AQI_city = pollute_country.groupby('City')['AQI Value'].mean().sort_values(ascending=False).head(1).index[0]\n",
        "  highest_AQI = pollute_country[pollute_country['City'] == highest_AQI_city]['AQI Value'].max()\n",
        "\n",
        "  print(f\"The AQI of the city with the highest AQI is {highest_AQI_city}: {highest_AQI}.\")\n",
        "\n",
        "  lowest_AQI_city = pollute_country.groupby('City')['AQI Value'].mean().sort_values(ascending=True).head(1).index[0]\n",
        "  lowest_AQI = pollute_country[pollute_country['City'] == lowest_AQI_city]['AQI Value'].min()\n",
        "\n",
        "  print(f\"The AQI of the city with the lowest AQI is {lowest_AQI_city}: {lowest_AQI}.\")\n",
        "\n",
        "\n",
        "country = input(\"What country would you like to check the AQI of? \")\n",
        "display_stat(country)"
      ],
      "metadata": {
        "id": "4BmaUP4xqA9t"
      },
      "execution_count": null,
      "outputs": []
    },
    {
      "cell_type": "markdown",
      "metadata": {
        "id": "EqRPY7rSheDv"
      },
      "source": [
        "# 4. Interactive AQI Data App"
      ]
    },
    {
      "cell_type": "code",
      "source": [
        "def display_stat(country):\n",
        "  pollute_country = pollute[pollute['Country'] == country]\n",
        "\n",
        "  # Calculate the mean AQI\n",
        "  mean_aqi = np.mean(pollute_country['AQI Value'])\n",
        "\n",
        "  # Find the city with the closest AQI to the mean\n",
        "  closest_aqi = np.argmin(np.abs(pollute_country['AQI Value'] - mean_aqi))\n",
        "\n",
        "  # Print the mean AQI and the city with the closest AQI\n",
        "  print(f\"Mean AQI for {country}: {mean_aqi}\")\n",
        "\n",
        "  highest_AQI_city = pollute_country.groupby('City')['AQI Value'].mean().sort_values(ascending=False).head(1).index[0]\n",
        "  highest_AQI = pollute_country[pollute_country['City'] == highest_AQI_city]['AQI Value'].max()\n",
        "\n",
        "  print(f\"The AQI of the city with the highest AQI is {highest_AQI_city}: {highest_AQI}.\")\n",
        "\n",
        "  lowest_AQI_city = pollute_country.groupby('City')['AQI Value'].mean().sort_values(ascending=True).head(1).index[0]\n",
        "  lowest_AQI = pollute_country[pollute_country['City'] == lowest_AQI_city]['AQI Value'].min()\n",
        "\n",
        "  print(f\"The AQI of the city with the lowest AQI is {lowest_AQI_city}: {lowest_AQI}.\")\n"
      ],
      "metadata": {
        "id": "ZFKg89yqtSq_"
      },
      "execution_count": null,
      "outputs": []
    },
    {
      "cell_type": "code",
      "source": [
        "country = input(\"What country would you like to check the AQI of? \")\n",
        "display_stat(country)"
      ],
      "metadata": {
        "id": "nXAMYc0mj4mz",
        "colab": {
          "base_uri": "https://localhost:8080/"
        },
        "outputId": "2bff3ffa-4d8b-4374-e115-604cee3a7315"
      },
      "execution_count": null,
      "outputs": [
        {
          "output_type": "stream",
          "name": "stdout",
          "text": [
            "What country would you like to check the AQI of? Brazil\n",
            "Mean AQI for Brazil: 44.57490396927017\n",
            "The AQI of the city with the highest AQI is Duque De Caxias: 268.\n",
            "The AQI of the city with the lowest AQI is Tarauaca: 11.\n"
          ]
        }
      ]
    },
    {
      "cell_type": "code",
      "source": [
        "pollute_country = pollute[pollute['Country'] == country]\n",
        "\n",
        "#add label and title\n",
        "\n",
        "fig = plt.figure(\n",
        "  figsize = (10, 5)\n",
        ")\n",
        "\n",
        "hist = sns.histplot(\n",
        "  data = pollute,\n",
        "  x = \"AQI Value\"\n",
        ")\n",
        "\n",
        "plt.title(f\"Frequency Distribution of AQI Values in Major Cities' in Every Country \")\n",
        "plt.xlabel(\"AQI Value\")\n",
        "plt.ylabel(\"Frequency\")\n",
        "plt.show()"
      ],
      "metadata": {
        "id": "ySoleZcrklL5",
        "colab": {
          "base_uri": "https://localhost:8080/",
          "height": 487
        },
        "outputId": "235e3585-8a5d-458e-bdf0-04388762bb10"
      },
      "execution_count": null,
      "outputs": [
        {
          "output_type": "display_data",
          "data": {
            "text/plain": [
              "<Figure size 1000x500 with 1 Axes>"
            ],
            "image/png": "[encoded data removed]"
          },
          "metadata": {}
        }
      ]
    },
    {
      "cell_type": "code",
      "source": [
        "### code for corelation of chemical emissions and aqi value"
      ],
      "metadata": {
        "id": "wKgNrhbMLHLH"
      },
      "execution_count": null,
      "outputs": []
    },
    {
      "cell_type": "markdown",
      "source": [
        "![aqindex1.png](data:image/png;base64,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)"
      ],
      "metadata": {
        "id": "3uqKltD6LufD"
      }
    }
  ],
  "metadata": {
    "colab": {
      "provenance": []
    },
    "kernelspec": {
      "display_name": "Python 3",
      "name": "python3"
    },
    "language_info": {
      "name": "python"
    }
  },
  "nbformat": 4,
  "nbformat_minor": 0
}